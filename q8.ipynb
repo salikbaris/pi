{
 "cells": [
  {
   "cell_type": "code",
   "execution_count": 1,
   "id": "50b079ce",
   "metadata": {},
   "outputs": [],
   "source": [
    "import pandas as pd"
   ]
  },
  {
   "cell_type": "code",
   "execution_count": 2,
   "id": "fb86c851",
   "metadata": {},
   "outputs": [
    {
     "data": {
      "text/html": [
       "<div>\n",
       "<style scoped>\n",
       "    .dataframe tbody tr th:only-of-type {\n",
       "        vertical-align: middle;\n",
       "    }\n",
       "\n",
       "    .dataframe tbody tr th {\n",
       "        vertical-align: top;\n",
       "    }\n",
       "\n",
       "    .dataframe thead th {\n",
       "        text-align: right;\n",
       "    }\n",
       "</style>\n",
       "<table border=\"1\" class=\"dataframe\">\n",
       "  <thead>\n",
       "    <tr style=\"text-align: right;\">\n",
       "      <th></th>\n",
       "      <th>device</th>\n",
       "      <th>Stats_Access_Link</th>\n",
       "    </tr>\n",
       "  </thead>\n",
       "  <tbody>\n",
       "    <tr>\n",
       "      <th>0</th>\n",
       "      <td>x</td>\n",
       "      <td>&lt;url&gt;https://xcd32112.smart_meter.com&lt;/url&gt;</td>\n",
       "    </tr>\n",
       "    <tr>\n",
       "      <th>1</th>\n",
       "      <td>y</td>\n",
       "      <td>&lt;url&gt;http://tXh67.dia_meter.com&lt;/url&gt;</td>\n",
       "    </tr>\n",
       "  </tbody>\n",
       "</table>\n",
       "</div>"
      ],
      "text/plain": [
       "  device                            Stats_Access_Link\n",
       "0      x  <url>https://xcd32112.smart_meter.com</url>\n",
       "1      y        <url>http://tXh67.dia_meter.com</url>"
      ]
     },
     "execution_count": 2,
     "metadata": {},
     "output_type": "execute_result"
    }
   ],
   "source": [
    "stri = '<url>https://xcd32112.smart_meter.com</url>'\n",
    "\n",
    "df = pd.DataFrame({\"device\": [\"x\", \"y\"], \"Stats_Access_Link\": [\"<url>https://xcd32112.smart_meter.com</url>\", \"<url>http://tXh67.dia_meter.com</url>\"]})\n",
    "df"
   ]
  },
  {
   "cell_type": "code",
   "execution_count": 3,
   "id": "66e5d0e2",
   "metadata": {},
   "outputs": [
    {
     "data": {
      "text/html": [
       "<div>\n",
       "<style scoped>\n",
       "    .dataframe tbody tr th:only-of-type {\n",
       "        vertical-align: middle;\n",
       "    }\n",
       "\n",
       "    .dataframe tbody tr th {\n",
       "        vertical-align: top;\n",
       "    }\n",
       "\n",
       "    .dataframe thead th {\n",
       "        text-align: right;\n",
       "    }\n",
       "</style>\n",
       "<table border=\"1\" class=\"dataframe\">\n",
       "  <thead>\n",
       "    <tr style=\"text-align: right;\">\n",
       "      <th></th>\n",
       "      <th>device</th>\n",
       "      <th>Stats_Access_Link</th>\n",
       "      <th>pure_url</th>\n",
       "    </tr>\n",
       "  </thead>\n",
       "  <tbody>\n",
       "    <tr>\n",
       "      <th>0</th>\n",
       "      <td>x</td>\n",
       "      <td>&lt;url&gt;https://xcd32112.smart_meter.com&lt;/url&gt;</td>\n",
       "      <td>xcd32112.smart_meter.com</td>\n",
       "    </tr>\n",
       "    <tr>\n",
       "      <th>1</th>\n",
       "      <td>y</td>\n",
       "      <td>&lt;url&gt;http://tXh67.dia_meter.com&lt;/url&gt;</td>\n",
       "      <td>tXh67.dia_meter.com</td>\n",
       "    </tr>\n",
       "  </tbody>\n",
       "</table>\n",
       "</div>"
      ],
      "text/plain": [
       "  device                            Stats_Access_Link  \\\n",
       "0      x  <url>https://xcd32112.smart_meter.com</url>   \n",
       "1      y        <url>http://tXh67.dia_meter.com</url>   \n",
       "\n",
       "                   pure_url  \n",
       "0  xcd32112.smart_meter.com  \n",
       "1       tXh67.dia_meter.com  "
      ]
     },
     "execution_count": 3,
     "metadata": {},
     "output_type": "execute_result"
    }
   ],
   "source": [
    "df[\"pure_url\"] = df[\"Stats_Access_Link\"].str.extract(r\"((?!\\/\\/)[\\w\\.]+(?=<\\/url>))\")\n",
    "df"
   ]
  }
 ],
 "metadata": {
  "kernelspec": {
   "display_name": "Python 3 (ipykernel)",
   "language": "python",
   "name": "python3"
  },
  "language_info": {
   "codemirror_mode": {
    "name": "ipython",
    "version": 3
   },
   "file_extension": ".py",
   "mimetype": "text/x-python",
   "name": "python",
   "nbconvert_exporter": "python",
   "pygments_lexer": "ipython3",
   "version": "3.9.15"
  }
 },
 "nbformat": 4,
 "nbformat_minor": 5
}
