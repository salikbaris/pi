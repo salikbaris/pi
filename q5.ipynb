{
 "cells": [
  {
   "cell_type": "code",
   "execution_count": null,
   "metadata": {},
   "outputs": [],
   "source": [
    "print(\"hello\")"
   ]
  }
 ],
 "metadata": {
  "kernelspec": {
   "display_name": "base",
   "language": "python",
   "name": "python3"
  },
  "language_info": {
   "name": "python",
   "version": "3.9.15"
  },
  "orig_nbformat": 4,
  "vscode": {
   "interpreter": {
    "hash": "0ba18322674410b72d99e9aff5a8b2b66e44b999b8b04caefff2a1b545e15f26"
   }
  }
 },
 "nbformat": 4,
 "nbformat_minor": 2
}
